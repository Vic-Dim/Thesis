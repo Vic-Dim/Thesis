{
 "cells": [
  {
   "cell_type": "code",
   "execution_count": 1,
   "metadata": {
    "id": "0Fj8AZ0ig2g8"
   },
   "outputs": [],
   "source": [
    "%matplotlib inline"
   ]
  },
  {
   "cell_type": "code",
   "execution_count": 2,
   "metadata": {
    "colab": {
     "base_uri": "https://localhost:8080/"
    },
    "id": "I_wk5W80g9uH",
    "outputId": "acdf78fa-29aa-43e6-9c47-c787ff0dd1ca"
   },
   "outputs": [
    {
     "name": "stdout",
     "output_type": "stream",
     "text": [
      "Mounted at /content/drive\n"
     ]
    }
   ],
   "source": [
    "from google.colab import drive\n",
    "drive.mount('/content/drive')\n",
    "\n",
    "import numpy as np\n",
    "import matplotlib.pyplot as plt\n",
    "import pandas as pd\n",
    "import h5py\n",
    "\n",
    "from tensorflow.keras import Input\n",
    "from tensorflow.keras.backend import clear_session\n",
    "from tensorflow.keras.models import Model\n",
    "from tensorflow.keras.layers import Conv1D, MaxPooling1D, Dense, Dropout, Flatten, LeakyReLU, Bidirectional, LSTM\n",
    "from tensorflow.keras.losses import BinaryCrossentropy\n",
    "from tensorflow.keras.optimizers import Adam\n",
    "from tensorflow.keras.metrics import AUC\n",
    "from tensorflow.keras.callbacks import EarlyStopping"
   ]
  },
  {
   "cell_type": "code",
   "execution_count": 3,
   "metadata": {
    "id": "RIMMWzOnhFZd"
   },
   "outputs": [],
   "source": [
    "train_data = h5py.File(r'/content/drive/MyDrive/Data/Single Factor Generated Data/MA0035_4_m3_train.h5', 'r')\n",
    "test_data = h5py.File(r'/content/drive/MyDrive/Data/Single Factor Generated Data/MA0035_4_m3_test.h5', 'r')  \n",
    "\n",
    "train_data_binlabels, train_data_features = np.array(train_data['binlabels']), np.array(train_data['data'])\n",
    "test_data_binlabels, test_data_features = np.array(test_data['binlabels']), np.array(test_data['data'])\n",
    "\n",
    "train_data_features = np.array([i.T for i in train_data_features])\n",
    "test_data_features = np.array([i.T for i in test_data_features])\n",
    "\n",
    "train_data.close()\n",
    "test_data.close()"
   ]
  },
  {
   "cell_type": "code",
   "execution_count": 4,
   "metadata": {
    "id": "ImXJPtbghGH_"
   },
   "outputs": [],
   "source": [
    "def plot_loss_and_AUC(model_history):\n",
    "  fig, ax = plt.subplots(ncols=2, figsize=(14, 5))\n",
    "\n",
    "  ax[0].plot(model_history.history[\"loss\"])\n",
    "  ax[0].plot(model_history.history[\"val_loss\"])\n",
    "  ax[0].title.set_text('model train loss vs validation loss')\n",
    "  ax[0].set(xlabel=\"loss\", ylabel=\"epoch\")\n",
    "  ax[0].legend(['train', 'validation'], loc='upper right')\n",
    "\n",
    "  ax[1].plot(model_history.history[\"AUC\"])\n",
    "  ax[1].plot(model_history.history[\"val_AUC\"])\n",
    "  ax[1].title.set_text('model train accuracy vs validation accuracy')\n",
    "  ax[1].set(xlabel=\"accuracy\", ylabel=\"epoch\")\n",
    "  ax[1].legend(['train', 'validation'], loc='lower right')\n",
    "\n",
    "  plt.show()"
   ]
  },
  {
   "cell_type": "code",
   "execution_count": 8,
   "metadata": {
    "colab": {
     "base_uri": "https://localhost:8080/"
    },
    "id": "rrsHKc6jhJcj",
    "outputId": "26d897de-6e23-40ab-cd2f-267e3b8c2bd5"
   },
   "outputs": [
    {
     "name": "stdout",
     "output_type": "stream",
     "text": [
      "Model: \"model\"\n",
      "_________________________________________________________________\n",
      " Layer (type)                Output Shape              Param #   \n",
      "=================================================================\n",
      " input_1 (InputLayer)        [(None, 1000, 4)]         0         \n",
      "                                                                 \n",
      " conv1d (Conv1D)             (None, 1000, 16)          656       \n",
      "                                                                 \n",
      " max_pooling1d (MaxPooling1D  (None, 250, 16)          0         \n",
      " )                                                               \n",
      "                                                                 \n",
      " conv1d_1 (Conv1D)           (None, 250, 32)           2080      \n",
      "                                                                 \n",
      " max_pooling1d_1 (MaxPooling  (None, 62, 32)           0         \n",
      " 1D)                                                             \n",
      "                                                                 \n",
      " bidirectional (Bidirectiona  (None, 64)               16640     \n",
      " l)                                                              \n",
      "                                                                 \n",
      " dense (Dense)               (None, 32)                2080      \n",
      "                                                                 \n",
      " dropout (Dropout)           (None, 32)                0         \n",
      "                                                                 \n",
      " dense_1 (Dense)             (None, 1)                 33        \n",
      "                                                                 \n",
      "=================================================================\n",
      "Total params: 21,489\n",
      "Trainable params: 21,489\n",
      "Non-trainable params: 0\n",
      "_________________________________________________________________\n"
     ]
    }
   ],
   "source": [
    "clear_session()\n",
    "\n",
    "input_layer = Input(shape = (1000, 4))\n",
    "\n",
    "hidden_layer = Conv1D(filters = 16, kernel_size = 10, padding = \"same\", activation = LeakyReLU(alpha=0))(input_layer)\n",
    "hidden_layer = MaxPooling1D(pool_size = 4, strides = 4)(hidden_layer)\n",
    "hidden_layer = Conv1D(filters = 32, kernel_size = 4, padding = \"same\", activation = LeakyReLU(alpha=0))(hidden_layer)\n",
    "hidden_layer = MaxPooling1D(pool_size = 4, strides = 4)(hidden_layer)\n",
    "hidden_layer = Bidirectional(LSTM(units = 32))(hidden_layer)\n",
    "hidden_layer = Dense(units = 32, activation = LeakyReLU())(hidden_layer)\n",
    "hidden_layer = Dropout(0.1)(hidden_layer)\n",
    "\n",
    "output = Dense(1, activation = \"sigmoid\")(hidden_layer)\n",
    "\n",
    "single_class_model = Model(inputs = input_layer, outputs=output)\n",
    " \n",
    "single_class_model.compile(\n",
    "    loss = BinaryCrossentropy(),\n",
    "    optimizer = Adam(beta_1 = 0.95),\n",
    "    metrics = [AUC(name = \"AUC\")]\n",
    ")\n",
    "\n",
    "single_class_model.summary()"
   ]
  },
  {
   "cell_type": "code",
   "execution_count": 9,
   "metadata": {
    "colab": {
     "base_uri": "https://localhost:8080/"
    },
    "id": "Ny1ie7aghNL9",
    "outputId": "22401d93-bbfc-4f88-a603-d6aab09ae760"
   },
   "outputs": [
    {
     "name": "stdout",
     "output_type": "stream",
     "text": [
      "Epoch 1/20\n",
      "95/95 [==============================] - 120s 889ms/step - loss: 0.6928 - AUC: 0.4994 - val_loss: 0.6926 - val_AUC: 0.4936\n",
      "Epoch 2/20\n",
      "95/95 [==============================] - 86s 906ms/step - loss: 0.6927 - AUC: 0.5004 - val_loss: 0.6924 - val_AUC: 0.5003\n",
      "Epoch 3/20\n",
      "95/95 [==============================] - 85s 892ms/step - loss: 0.6924 - AUC: 0.5056 - val_loss: 0.6925 - val_AUC: 0.4945\n",
      "Epoch 4/20\n",
      "95/95 [==============================] - 83s 873ms/step - loss: 0.6923 - AUC: 0.5077 - val_loss: 0.6925 - val_AUC: 0.4945\n",
      "Epoch 5/20\n",
      "95/95 [==============================] - 81s 856ms/step - loss: 0.6922 - AUC: 0.5135 - val_loss: 0.6925 - val_AUC: 0.5013\n",
      "Epoch 6/20\n",
      "95/95 [==============================] - 82s 867ms/step - loss: 0.6917 - AUC: 0.5215 - val_loss: 0.6921 - val_AUC: 0.5162\n",
      "Epoch 7/20\n",
      "95/95 [==============================] - 85s 897ms/step - loss: 0.6904 - AUC: 0.5363 - val_loss: 0.6905 - val_AUC: 0.5540\n",
      "Epoch 8/20\n",
      "95/95 [==============================] - 83s 878ms/step - loss: 0.6857 - AUC: 0.5688 - val_loss: 0.6670 - val_AUC: 0.6593\n",
      "Epoch 9/20\n",
      "95/95 [==============================] - 81s 854ms/step - loss: 0.6348 - AUC: 0.6933 - val_loss: 0.6030 - val_AUC: 0.7484\n",
      "Epoch 10/20\n",
      "95/95 [==============================] - 80s 844ms/step - loss: 0.5950 - AUC: 0.7481 - val_loss: 0.5801 - val_AUC: 0.7647\n",
      "Epoch 11/20\n",
      "95/95 [==============================] - 80s 847ms/step - loss: 0.5833 - AUC: 0.7595 - val_loss: 0.5775 - val_AUC: 0.7701\n",
      "Epoch 12/20\n",
      "95/95 [==============================] - 82s 860ms/step - loss: 0.5786 - AUC: 0.7637 - val_loss: 0.5717 - val_AUC: 0.7727\n",
      "Epoch 13/20\n",
      "95/95 [==============================] - 81s 852ms/step - loss: 0.5703 - AUC: 0.7702 - val_loss: 0.5643 - val_AUC: 0.7765\n",
      "Epoch 14/20\n",
      "95/95 [==============================] - 82s 867ms/step - loss: 0.5650 - AUC: 0.7739 - val_loss: 0.5597 - val_AUC: 0.7797\n",
      "Epoch 15/20\n",
      "95/95 [==============================] - 83s 874ms/step - loss: 0.5639 - AUC: 0.7744 - val_loss: 0.5636 - val_AUC: 0.7806\n",
      "Epoch 16/20\n",
      "95/95 [==============================] - 82s 861ms/step - loss: 0.5613 - AUC: 0.7761 - val_loss: 0.5563 - val_AUC: 0.7824\n",
      "Epoch 17/20\n",
      "95/95 [==============================] - 82s 861ms/step - loss: 0.5565 - AUC: 0.7795 - val_loss: 0.5544 - val_AUC: 0.7835\n",
      "Epoch 18/20\n",
      "95/95 [==============================] - 81s 849ms/step - loss: 0.5564 - AUC: 0.7797 - val_loss: 0.5542 - val_AUC: 0.7843\n",
      "Epoch 19/20\n",
      "95/95 [==============================] - 81s 848ms/step - loss: 0.5554 - AUC: 0.7805 - val_loss: 0.5527 - val_AUC: 0.7848\n",
      "Epoch 20/20\n",
      "95/95 [==============================] - 80s 839ms/step - loss: 0.5540 - AUC: 0.7813 - val_loss: 0.5552 - val_AUC: 0.7854\n"
     ]
    }
   ],
   "source": [
    "single_class_model_history = single_class_model.fit(train_data_features, train_data_binlabels, epochs = 20, batch_size = 1000, validation_split = 5e-2, shuffle = True)  "
   ]
  },
  {
   "cell_type": "code",
   "execution_count": 11,
   "metadata": {
    "colab": {
     "base_uri": "https://localhost:8080/",
     "height": 423
    },
    "id": "DITjBvZKhPhf",
    "outputId": "e94a51a1-f62f-4b31-d283-130f3a546d93"
   },
   "outputs": [
    {
     "data": {
      "image/png": "[encoded data removed]",
      "text/plain": [
       "<Figure size 1008x360 with 2 Axes>"
      ]
     },
     "metadata": {
      "needs_background": "light"
     },
     "output_type": "display_data"
    },
    {
     "name": "stdout",
     "output_type": "stream",
     "text": [
      "\n",
      "\n",
      "313/313 [==============================] - 5s 16ms/step - loss: 0.5322 - AUC: 0.8052\n"
     ]
    },
    {
     "data": {
      "text/plain": [
       "[0.532249927520752, 0.805203914642334]"
      ]
     },
     "execution_count": 11,
     "metadata": {},
     "output_type": "execute_result"
    }
   ],
   "source": [
    "plot_loss_and_AUC(single_class_model_history)\n",
    "print(\"\\n\")\n",
    "single_class_model.evaluate(test_data_features, test_data_binlabels)"
   ]
  },
  {
   "cell_type": "code",
   "execution_count": 12,
   "metadata": {
    "id": "Oq_NPOxP0x_4"
   },
   "outputs": [],
   "source": [
    "single_class_model.save('/content/drive/MyDrive/Data/convrnn_binary_classification.h5')"
   ]
  }
 ],
 "metadata": {
  "colab": {
   "name": "Thesis ConvRNN Binary Classification.ipynb",
   "provenance": []
  },
  "kernelspec": {
   "display_name": "Python 3",
   "language": "python",
   "name": "python3"
  },
  "language_info": {
   "codemirror_mode": {
    "name": "ipython",
    "version": 3
   },
   "file_extension": ".py",
   "mimetype": "text/x-python",
   "name": "python",
   "nbconvert_exporter": "python",
   "pygments_lexer": "ipython3",
   "version": "3.8.8"
  }
 },
 "nbformat": 4,
 "nbformat_minor": 1
}
