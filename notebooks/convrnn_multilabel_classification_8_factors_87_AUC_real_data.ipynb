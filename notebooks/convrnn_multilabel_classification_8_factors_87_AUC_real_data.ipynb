{
 "cells": [
  {
   "cell_type": "code",
   "execution_count": 1,
   "metadata": {
    "id": "70wGhhhpEiMt"
   },
   "outputs": [],
   "source": [
    "%matplotlib inline"
   ]
  },
  {
   "cell_type": "code",
   "execution_count": 2,
   "metadata": {
    "colab": {
     "base_uri": "https://localhost:8080/"
    },
    "id": "9135IqSXElE-",
    "outputId": "52567695-0668-4599-d126-20e70c6231b4"
   },
   "outputs": [
    {
     "name": "stdout",
     "output_type": "stream",
     "text": [
      "Drive already mounted at /content/drive; to attempt to forcibly remount, call drive.mount(\"/content/drive\", force_remount=True).\n"
     ]
    }
   ],
   "source": [
    "from google.colab import drive\n",
    "drive.mount('/content/drive')\n",
    "\n",
    "import numpy as np\n",
    "import matplotlib.pyplot as plt\n",
    "import pandas as pd\n",
    "import h5py\n",
    "\n",
    "from tensorflow.keras import Input\n",
    "from tensorflow.keras.backend import clear_session\n",
    "from tensorflow.keras.models import Model, load_model\n",
    "from tensorflow.keras.layers import Conv1D, MaxPooling1D, LSTM, Dense, Bidirectional, Dropout, LeakyReLU, Flatten\n",
    "from tensorflow.keras.losses import BinaryCrossentropy\n",
    "from tensorflow.keras.optimizers import Adam\n",
    "from tensorflow.keras.metrics import AUC\n",
    "from tensorflow.keras.callbacks import EarlyStopping"
   ]
  },
  {
   "cell_type": "code",
   "execution_count": 3,
   "metadata": {
    "colab": {
     "base_uri": "https://localhost:8080/"
    },
    "id": "pdedMEtpElss",
    "outputId": "3602cbda-6f60-44dc-fb59-c802b255dd51"
   },
   "outputs": [
    {
     "name": "stderr",
     "output_type": "stream",
     "text": [
      "/usr/local/lib/python3.7/dist-packages/ipykernel_launcher.py:27: VisibleDeprecationWarning: Creating an ndarray from ragged nested sequences (which is a list-or-tuple of lists-or-tuples-or ndarrays with different lengths or shapes) is deprecated. If you meant to do this, you must specify 'dtype=object' when creating the ndarray.\n",
      "/usr/local/lib/python3.7/dist-packages/ipykernel_launcher.py:31: VisibleDeprecationWarning: Creating an ndarray from ragged nested sequences (which is a list-or-tuple of lists-or-tuples-or ndarrays with different lengths or shapes) is deprecated. If you meant to do this, you must specify 'dtype=object' when creating the ndarray.\n",
      "/usr/local/lib/python3.7/dist-packages/ipykernel_launcher.py:33: VisibleDeprecationWarning: Creating an ndarray from ragged nested sequences (which is a list-or-tuple of lists-or-tuples-or ndarrays with different lengths or shapes) is deprecated. If you meant to do this, you must specify 'dtype=object' when creating the ndarray.\n",
      "/usr/local/lib/python3.7/dist-packages/ipykernel_launcher.py:35: VisibleDeprecationWarning: Creating an ndarray from ragged nested sequences (which is a list-or-tuple of lists-or-tuples-or ndarrays with different lengths or shapes) is deprecated. If you meant to do this, you must specify 'dtype=object' when creating the ndarray.\n"
     ]
    }
   ],
   "source": [
    "train_data_01 = h5py.File(r'/content/drive/MyDrive/Data/Chromosomes/znf_marvin_hg19_bin50_050_1_000000001_249250621_2022_03_24__15_01_23.h5', 'r')\n",
    "train_data_02 = h5py.File(r'/content/drive/MyDrive/Data/Chromosomes/znf_marvin_hg19_bin50_050_2_000000001_243199373_2022_03_24__15_03_38.h5', 'r')\n",
    "train_data_03 = h5py.File(r'/content/drive/MyDrive/Data/Chromosomes/znf_marvin_hg19_bin50_050_3_000000001_198022430_2022_03_24__15_05_28.h5', 'r')\n",
    "train_data_04 = h5py.File(r'/content/drive/MyDrive/Data/Chromosomes/znf_marvin_hg19_bin50_050_4_000000001_191154276_2022_03_24__15_06_55.h5', 'r')\n",
    "train_data_05 = h5py.File(r'/content/drive/MyDrive/Data/Chromosomes/znf_marvin_hg19_bin50_050_5_000000001_180915260_2022_03_24__15_08_05.h5', 'r')\n",
    "train_data_06 = h5py.File(r'/content/drive/MyDrive/Data/Chromosomes/znf_marvin_hg19_bin50_050_6_000000001_171115067_2022_03_24__15_09_29.h5', 'r')\n",
    "train_data_07 = h5py.File(r'/content/drive/MyDrive/Data/Chromosomes/znf_marvin_hg19_bin50_050_7_000000001_159138663_2022_03_24__15_10_49.h5', 'r')\n",
    "train_data_08 = h5py.File(r'/content/drive/MyDrive/Data/Chromosomes/znf_marvin_hg19_bin50_050_8_000000001_146364022_2022_03_24__15_12_04.h5', 'r')\n",
    "train_data_09 = h5py.File(r'/content/drive/MyDrive/Data/Chromosomes/znf_marvin_hg19_bin50_050_9_000000001_141213431_2022_03_24__15_13_06.h5', 'r')\n",
    "train_data_10 = h5py.File(r'/content/drive/MyDrive/Data/Chromosomes/znf_marvin_hg19_bin50_050_10_000000001_135534747_2022_03_24__15_14_10.h5', 'r')\n",
    "train_data_11 = h5py.File(r'/content/drive/MyDrive/Data/Chromosomes/znf_marvin_hg19_bin50_050_11_000000001_135006516_2022_03_24__15_15_21.h5', 'r')\n",
    "train_data_12 = h5py.File(r'/content/drive/MyDrive/Data/Chromosomes/znf_marvin_hg19_bin50_050_12_000000001_133851895_2022_03_24__15_16_24.h5', 'r')\n",
    "train_data_13 = h5py.File(r'/content/drive/MyDrive/Data/Chromosomes/znf_marvin_hg19_bin50_050_13_000000001_115169878_2022_03_24__15_17_32.h5', 'r')\n",
    "train_data_14 = h5py.File(r'/content/drive/MyDrive/Data/Chromosomes/znf_marvin_hg19_bin50_050_14_000000001_107349540_2022_03_24__15_18_11.h5', 'r')\n",
    "train_data_15 = h5py.File(r'/content/drive/MyDrive/Data/Chromosomes/znf_marvin_hg19_bin50_050_15_000000001_102531392_2022_03_24__15_18_58.h5', 'r')\n",
    "train_data_16 = h5py.File(r'/content/drive/MyDrive/Data/Chromosomes/znf_marvin_hg19_bin50_050_16_000000001_090354753_2022_03_24__15_19_46.h5', 'r')\n",
    "train_data_17 = h5py.File(r'/content/drive/MyDrive/Data/Chromosomes/znf_marvin_hg19_bin50_050_17_000000001_081195210_2022_03_24__15_20_31.h5', 'r')\n",
    "\n",
    "test_data_18 = h5py.File(r'/content/drive/MyDrive/Data/Chromosomes/znf_marvin_hg19_bin50_050_18_000000001_078077248_2022_03_24__15_21_24.h5', 'r')  \n",
    "test_data_19 = h5py.File(r'/content/drive/MyDrive/Data/Chromosomes/znf_marvin_hg19_bin50_050_19_000000001_059128983_2022_03_24__15_21_55.h5', 'r') \n",
    "test_data_20 = h5py.File(r'/content/drive/MyDrive/Data/Chromosomes/znf_marvin_hg19_bin50_050_20_000000001_063025520_2022_03_24__15_22_44.h5', 'r')  \n",
    "test_data_21 = h5py.File(r'/content/drive/MyDrive/Data/Chromosomes/znf_marvin_hg19_bin50_050_21_000000001_048129895_2022_03_24__15_23_19.h5', 'r')  \n",
    "test_data_22 = h5py.File(r'/content/drive/MyDrive/Data/Chromosomes/znf_marvin_hg19_bin50_050_22_000000001_051304566_2022_03_24__15_23_38.h5', 'r')  \n",
    "\n",
    "train_data_binlabels = np.concatenate(np.array([train_data_01['binlabels'], train_data_02['binlabels'], train_data_03['binlabels'], train_data_04['binlabels'], train_data_05['binlabels'], train_data_06['binlabels'], \n",
    "                                                train_data_07['binlabels'], train_data_08['binlabels'], train_data_09['binlabels'], train_data_10['binlabels'], train_data_11['binlabels'], train_data_12['binlabels'],\n",
    "                                                train_data_13['binlabels'], train_data_14['binlabels'], train_data_15['binlabels'], train_data_16['binlabels'], train_data_17['binlabels']]))\n",
    "\n",
    "train_data_features =  np.concatenate(np.array([train_data_01['data'], train_data_02['data'], train_data_03['data'], train_data_04['data'], train_data_05['data'], train_data_06['data'], \n",
    "                                                train_data_07['data'], train_data_08['data'], train_data_09['data'], train_data_10['data'], train_data_11['data'], train_data_12['data'],\n",
    "                                                train_data_13['data'], train_data_14['data'], train_data_15['data'], train_data_16['data'], train_data_17['data']]))\n",
    "\n",
    "test_data_binlabels = np.concatenate(np.array([test_data_18['binlabels'], test_data_19['binlabels'], test_data_20['binlabels'], test_data_21['binlabels'], test_data_22['binlabels']]))\n",
    "\n",
    "test_data_features = np.concatenate(np.array([test_data_18['data'], test_data_19['data'], test_data_20['data'], test_data_21['data'], test_data_22['data']]))\n",
    "\n",
    "train_data_features = np.array([i.T for i in train_data_features])\n",
    "test_data_features = np.array([i.T for i in test_data_features])\n",
    "\n",
    "train_data_01.close()\n",
    "train_data_02.close()\n",
    "train_data_03.close()\n",
    "train_data_04.close()\n",
    "train_data_05.close()\n",
    "train_data_06.close()\n",
    "train_data_07.close()\n",
    "train_data_08.close()\n",
    "train_data_09.close()\n",
    "train_data_10.close()\n",
    "train_data_11.close()\n",
    "train_data_12.close()\n",
    "train_data_13.close()\n",
    "train_data_14.close()\n",
    "train_data_15.close()\n",
    "train_data_16.close()\n",
    "train_data_17.close()\n",
    "\n",
    "test_data_18.close()\n",
    "test_data_18.close()\n",
    "test_data_20.close()\n",
    "test_data_21.close()\n",
    "test_data_22.close()"
   ]
  },
  {
   "cell_type": "code",
   "execution_count": 4,
   "metadata": {
    "colab": {
     "base_uri": "https://localhost:8080/"
    },
    "id": "-z3nRfs6Z5te",
    "outputId": "59fddc8a-9e5c-4094-bb61-725b02e2a76b"
   },
   "outputs": [
    {
     "data": {
      "text/plain": [
       "(553571, 1000, 4)"
      ]
     },
     "execution_count": 4,
     "metadata": {},
     "output_type": "execute_result"
    }
   ],
   "source": [
    "train_data_features.shape"
   ]
  },
  {
   "cell_type": "code",
   "execution_count": 5,
   "metadata": {
    "colab": {
     "base_uri": "https://localhost:8080/"
    },
    "id": "B4DPuOqXZ6i0",
    "outputId": "85fc399d-dadd-4d65-c365-40613d94d1eb"
   },
   "outputs": [
    {
     "data": {
      "text/plain": [
       "(94708, 1000, 4)"
      ]
     },
     "execution_count": 5,
     "metadata": {},
     "output_type": "execute_result"
    }
   ],
   "source": [
    "test_data_features.shape"
   ]
  },
  {
   "cell_type": "code",
   "execution_count": 11,
   "metadata": {
    "id": "_h2clrs0hFs5"
   },
   "outputs": [],
   "source": [
    "def plot_loss_and_AUC(model_history):\n",
    "  fig, ax = plt.subplots(ncols=2, figsize=(14, 5))\n",
    "\n",
    "  ax[0].plot(model_history.history[\"loss\"])\n",
    "  ax[0].plot(model_history.history[\"val_loss\"])\n",
    "  ax[0].title.set_text('model train loss vs validation loss')\n",
    "  ax[0].set(xlabel=\"loss\", ylabel=\"epoch\")\n",
    "  ax[0].legend(['train', 'validation'], loc='upper right')\n",
    "\n",
    "  ax[1].plot(model_history.history[\"AUC\"])\n",
    "  ax[1].plot(model_history.history[\"val_AUC\"])\n",
    "  ax[1].title.set_text('model train accuracy vs validation accuracy')\n",
    "  ax[1].set(xlabel=\"accuracy\", ylabel=\"epoch\")\n",
    "  ax[1].legend(['train', 'validation'], loc='lower right')\n",
    "\n",
    "  plt.show()"
   ]
  },
  {
   "cell_type": "code",
   "execution_count": 6,
   "metadata": {
    "id": "uNskkILMEpnU"
   },
   "outputs": [],
   "source": [
    "!git clone -l -s https://github.com/Vic-Dim/Thesis thesis\n",
    "%cd 'thesis/model weights'\n",
    "print('\\nFiles:')\n",
    "!ls\n",
    "multilabel_model = load_model('multilabel_classification_convrnn_on_real_data.h5')"
   ]
  },
  {
   "cell_type": "code",
   "execution_count": 7,
   "metadata": {
    "colab": {
     "base_uri": "https://localhost:8080/"
    },
    "id": "6hw09NBeEuot",
    "outputId": "124e28ef-2f36-4884-9790-3bcfd4829785"
   },
   "outputs": [
    {
     "name": "stdout",
     "output_type": "stream",
     "text": [
      "Model: \"model\"\n",
      "_________________________________________________________________\n",
      " Layer (type)                Output Shape              Param #   \n",
      "=================================================================\n",
      " input_1 (InputLayer)        [(None, 1000, 4)]         0         \n",
      "                                                                 \n",
      " conv1d (Conv1D)             (None, 1000, 50)          2050      \n",
      "                                                                 \n",
      " max_pooling1d (MaxPooling1D  (None, 250, 50)          0         \n",
      " )                                                               \n",
      "                                                                 \n",
      " conv1d_1 (Conv1D)           (None, 250, 100)          20100     \n",
      "                                                                 \n",
      " max_pooling1d_1 (MaxPooling  (None, 62, 100)          0         \n",
      " 1D)                                                             \n",
      "                                                                 \n",
      " bidirectional (Bidirectiona  (None, 200)              160800    \n",
      " l)                                                              \n",
      "                                                                 \n",
      " dense (Dense)               (None, 100)               20100     \n",
      "                                                                 \n",
      " dropout (Dropout)           (None, 100)               0         \n",
      "                                                                 \n",
      " dense_1 (Dense)             (None, 8)                 808       \n",
      "                                                                 \n",
      "=================================================================\n",
      "Total params: 203,858\n",
      "Trainable params: 808\n",
      "Non-trainable params: 203,050\n",
      "_________________________________________________________________\n"
     ]
    }
   ],
   "source": [
    "new_hidden_layer = Dropout(0.2)(multilabel_model.layers[-2].output)\n",
    "new_hidden_layer = Dense(units = 8, activation = 'sigmoid', name='dense_1')(new_hidden_layer)\n",
    "\n",
    "new_multilabel_model = Model(multilabel_model.input, new_hidden_layer)\n",
    "\n",
    "new_multilabel_model.compile(\n",
    "    loss = BinaryCrossentropy(),\n",
    "    optimizer = Adam(beta_1 = 0.95),\n",
    "    metrics = [AUC(name = \"AUC\", multi_label=True)]\n",
    ")\n",
    "\n",
    "for layer in new_multilabel_model.layers:\n",
    "  if layer.name != 'dense_1':\n",
    "    layer.trainable = False\n",
    "\n",
    "new_multilabel_model.summary()"
   ]
  },
  {
   "cell_type": "code",
   "execution_count": 8,
   "metadata": {
    "colab": {
     "base_uri": "https://localhost:8080/"
    },
    "id": "89mXp1RpE5V9",
    "outputId": "f3011970-cfd1-4af7-ed5c-da1b4b525171"
   },
   "outputs": [
    {
     "name": "stdout",
     "output_type": "stream",
     "text": [
      "Epoch 1/50\n",
      "526/526 [==============================] - 121s 214ms/step - loss: 0.3964 - AUC: 0.6555 - val_loss: 0.3512 - val_AUC: 0.7575\n",
      "Epoch 2/50\n",
      "526/526 [==============================] - 111s 210ms/step - loss: 0.3160 - AUC: 0.8140 - val_loss: 0.2961 - val_AUC: 0.8426\n",
      "Epoch 3/50\n",
      "526/526 [==============================] - 111s 211ms/step - loss: 0.2843 - AUC: 0.8552 - val_loss: 0.2824 - val_AUC: 0.8594\n",
      "Epoch 4/50\n",
      "526/526 [==============================] - 111s 210ms/step - loss: 0.2725 - AUC: 0.8683 - val_loss: 0.2747 - val_AUC: 0.8669\n",
      "Epoch 5/50\n",
      "526/526 [==============================] - 111s 211ms/step - loss: 0.2647 - AUC: 0.8767 - val_loss: 0.2728 - val_AUC: 0.8718\n",
      "Epoch 6/50\n",
      "526/526 [==============================] - 111s 211ms/step - loss: 0.2585 - AUC: 0.8834 - val_loss: 0.2687 - val_AUC: 0.8760\n",
      "Epoch 7/50\n",
      "526/526 [==============================] - 111s 212ms/step - loss: 0.2529 - AUC: 0.8892 - val_loss: 0.2653 - val_AUC: 0.8771\n",
      "Epoch 8/50\n",
      "526/526 [==============================] - 111s 211ms/step - loss: 0.2489 - AUC: 0.8931 - val_loss: 0.2631 - val_AUC: 0.8791\n",
      "Epoch 9/50\n",
      "526/526 [==============================] - 111s 212ms/step - loss: 0.2450 - AUC: 0.8971 - val_loss: 0.2649 - val_AUC: 0.8813\n",
      "Epoch 10/50\n",
      "526/526 [==============================] - 111s 211ms/step - loss: 0.2417 - AUC: 0.9002 - val_loss: 0.2602 - val_AUC: 0.8804\n",
      "Epoch 11/50\n",
      "526/526 [==============================] - 111s 212ms/step - loss: 0.2382 - AUC: 0.9034 - val_loss: 0.2632 - val_AUC: 0.8806\n",
      "Epoch 12/50\n",
      "526/526 [==============================] - 111s 211ms/step - loss: 0.2356 - AUC: 0.9058 - val_loss: 0.2602 - val_AUC: 0.8802\n",
      "Epoch 13/50\n",
      "526/526 [==============================] - 111s 211ms/step - loss: 0.2331 - AUC: 0.9081 - val_loss: 0.2623 - val_AUC: 0.8794\n",
      "Epoch 14/50\n",
      "526/526 [==============================] - 111s 210ms/step - loss: 0.2302 - AUC: 0.9108 - val_loss: 0.2631 - val_AUC: 0.8791\n"
     ]
    }
   ],
   "source": [
    "callback = [EarlyStopping(patience = 2)]\n",
    "\n",
    "new_multilabel_model_history = new_multilabel_model.fit(train_data_features, train_data_binlabels, epochs = 50, batch_size = 1000, validation_split = 5e-2, shuffle = True, callbacks = callback)  "
   ]
  },
  {
   "cell_type": "code",
   "execution_count": 9,
   "metadata": {
    "colab": {
     "base_uri": "https://localhost:8080/"
    },
    "id": "4rVAtaokLxmL",
    "outputId": "c0138a84-c8ee-4019-d76c-025e855cff04"
   },
   "outputs": [
    {
     "name": "stdout",
     "output_type": "stream",
     "text": [
      "2960/2960 [==============================] - 50s 17ms/step - loss: 0.2763 - AUC: 0.8766\n"
     ]
    },
    {
     "data": {
      "text/plain": [
       "[0.2763398289680481, 0.8766348361968994]"
      ]
     },
     "execution_count": 9,
     "metadata": {},
     "output_type": "execute_result"
    }
   ],
   "source": [
    "new_multilabel_model.evaluate(test_data_features, test_data_binlabels)"
   ]
  },
  {
   "cell_type": "code",
   "execution_count": 15,
   "metadata": {
    "colab": {
     "base_uri": "https://localhost:8080/",
     "height": 350
    },
    "id": "Kyo0qzD1hIxJ",
    "outputId": "2d0ac952-a0c2-472c-c9a9-249d2b7d63b0"
   },
   "outputs": [
    {
     "data": {
      "image/png": "[encoded data removed]",
      "text/plain": [
       "<Figure size 1008x360 with 2 Axes>"
      ]
     },
     "metadata": {
      "needs_background": "light"
     },
     "output_type": "display_data"
    }
   ],
   "source": [
    "plot_loss_and_AUC(new_multilabel_model_history)"
   ]
  },
  {
   "cell_type": "code",
   "execution_count": 13,
   "metadata": {
    "id": "3FG1lLahhXKw"
   },
   "outputs": [],
   "source": [
    "new_multilabel_model.save('/content/drive/MyDrive/Data/convrnn_multilabel_classification_8_factors_real_data.h5')"
   ]
  }
 ],
 "metadata": {
  "accelerator": "GPU",
  "colab": {
   "name": "Untitled0.ipynb",
   "provenance": []
  },
  "kernelspec": {
   "display_name": "Python 3",
   "language": "python",
   "name": "python3"
  },
  "language_info": {
   "codemirror_mode": {
    "name": "ipython",
    "version": 3
   },
   "file_extension": ".py",
   "mimetype": "text/x-python",
   "name": "python",
   "nbconvert_exporter": "python",
   "pygments_lexer": "ipython3",
   "version": "3.8.8"
  }
 },
 "nbformat": 4,
 "nbformat_minor": 1
}
