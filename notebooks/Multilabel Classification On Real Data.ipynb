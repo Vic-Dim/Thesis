{
 "cells": [
  {
   "cell_type": "code",
   "execution_count": 1,
   "metadata": {
    "id": "6GMtOY1gZswh"
   },
   "outputs": [],
   "source": [
    "%matplotlib inline"
   ]
  },
  {
   "cell_type": "code",
   "execution_count": 2,
   "metadata": {
    "colab": {
     "base_uri": "https://localhost:8080/"
    },
    "id": "SqBoyINSZuPD",
    "outputId": "2ceb8430-947a-4f3b-c0f4-cf72913e5a21"
   },
   "outputs": [
    {
     "name": "stdout",
     "output_type": "stream",
     "text": [
      "Drive already mounted at /content/drive; to attempt to forcibly remount, call drive.mount(\"/content/drive\", force_remount=True).\n"
     ]
    }
   ],
   "source": [
    "from google.colab import drive\n",
    "drive.mount('/content/drive')\n",
    "\n",
    "import numpy as np\n",
    "import matplotlib.pyplot as plt\n",
    "import pandas as pd\n",
    "import h5py\n",
    "\n",
    "from tensorflow.keras import Input\n",
    "from tensorflow.keras.backend import clear_session\n",
    "from tensorflow.keras.models import Model\n",
    "from tensorflow.keras.layers import Conv1D, MaxPooling1D, LSTM, Dense, Bidirectional, Dropout, LeakyReLU, Flatten\n",
    "from tensorflow.keras.losses import BinaryCrossentropy\n",
    "from tensorflow.keras.optimizers import Adam\n",
    "from tensorflow.keras.metrics import AUC\n",
    "from tensorflow.keras.callbacks import EarlyStopping"
   ]
  },
  {
   "cell_type": "code",
   "execution_count": 3,
   "metadata": {
    "id": "rZuYWkUvZuWv"
   },
   "outputs": [],
   "source": [
    "train_data = h5py.File(r'/content/drive/MyDrive/Data/Multiple Factors Generated Data/ZNF_train_3000_100.h5', 'r')\n",
    "test_data = h5py.File(r'/content/drive/MyDrive/Data/Multiple Factors Generated Data/ZNF_test_3000_010.h5', 'r')  \n",
    "\n",
    "train_data_binlabels, train_data_features = np.array(train_data['binlabels']), np.array(train_data['data'])\n",
    "test_data_binlabels, test_data_features = np.array(test_data['binlabels']), np.array(test_data['data'])\n",
    "\n",
    "train_data_features = np.array([i.T for i in train_data_features])\n",
    "test_data_features = np.array([i.T for i in test_data_features])\n",
    "\n",
    "train_data.close()\n",
    "test_data.close()"
   ]
  },
  {
   "cell_type": "code",
   "execution_count": 4,
   "metadata": {
    "id": "Iy7HM-8uZufq"
   },
   "outputs": [],
   "source": [
    "def plot_loss_and_AUC(model_history):\n",
    "  fig, ax = plt.subplots(ncols=2, figsize=(14, 5))\n",
    "\n",
    "  ax[0].plot(model_history.history[\"loss\"])\n",
    "  ax[0].plot(model_history.history[\"val_loss\"])\n",
    "  ax[0].title.set_text('model train loss vs validation loss')\n",
    "  ax[0].set(xlabel=\"loss\", ylabel=\"epoch\")\n",
    "  ax[0].legend(['train', 'validation'], loc='upper right')\n",
    "\n",
    "  ax[1].plot(model_history.history[\"AUC\"])\n",
    "  ax[1].plot(model_history.history[\"val_AUC\"])\n",
    "  ax[1].title.set_text('model train accuracy vs validation accuracy')\n",
    "  ax[1].set(xlabel=\"accuracy\", ylabel=\"epoch\")\n",
    "  ax[1].legend(['train', 'validation'], loc='lower right')\n",
    "\n",
    "  plt.show()"
   ]
  },
  {
   "cell_type": "code",
   "execution_count": 5,
   "metadata": {
    "colab": {
     "base_uri": "https://localhost:8080/"
    },
    "id": "xBTA__ynZund",
    "outputId": "e5c6efbd-aea1-4c35-83cf-d4acf7661081"
   },
   "outputs": [
    {
     "name": "stdout",
     "output_type": "stream",
     "text": [
      "Model: \"model\"\n",
      "_________________________________________________________________\n",
      " Layer (type)                Output Shape              Param #   \n",
      "=================================================================\n",
      " input_1 (InputLayer)        [(None, 1000, 4)]         0         \n",
      "                                                                 \n",
      " conv1d (Conv1D)             (None, 1000, 50)          2050      \n",
      "                                                                 \n",
      " max_pooling1d (MaxPooling1D  (None, 250, 50)          0         \n",
      " )                                                               \n",
      "                                                                 \n",
      " conv1d_1 (Conv1D)           (None, 250, 100)          20100     \n",
      "                                                                 \n",
      " max_pooling1d_1 (MaxPooling  (None, 62, 100)          0         \n",
      " 1D)                                                             \n",
      "                                                                 \n",
      " bidirectional (Bidirectiona  (None, 200)              160800    \n",
      " l)                                                              \n",
      "                                                                 \n",
      " dense (Dense)               (None, 100)               20100     \n",
      "                                                                 \n",
      " dense_1 (Dense)             (None, 29)                2929      \n",
      "                                                                 \n",
      "=================================================================\n",
      "Total params: 205,979\n",
      "Trainable params: 205,979\n",
      "Non-trainable params: 0\n",
      "_________________________________________________________________\n"
     ]
    }
   ],
   "source": [
    "clear_session()\n",
    "\n",
    "input_layer = Input(shape = (1000, 4))\n",
    "\n",
    "hidden_layer = Conv1D(filters = 50, kernel_size = 10, padding = \"same\", activation = LeakyReLU(alpha=0))(input_layer)\n",
    "hidden_layer = MaxPooling1D(pool_size = 4, strides = 4)(hidden_layer)\n",
    "hidden_layer = Conv1D(filters = 100, kernel_size = 4, padding = \"same\", activation = LeakyReLU(alpha=0))(hidden_layer)\n",
    "hidden_layer = MaxPooling1D(pool_size = 4, strides = 4)(hidden_layer)\n",
    "hidden_layer = Bidirectional(LSTM(units = 100))(hidden_layer)\n",
    "hidden_layer = Dense(units = 100, activation = LeakyReLU())(hidden_layer)\n",
    "\n",
    "output = Dense(29, activation = \"sigmoid\")(hidden_layer)\n",
    "\n",
    "multilabel_model = Model(inputs = input_layer, outputs=output)\n",
    " \n",
    "multilabel_model.compile(\n",
    "    loss = BinaryCrossentropy(),\n",
    "    optimizer = Adam(beta_1 = 0.95),\n",
    "    metrics = [AUC(name = \"AUC\", multi_label = True)]\n",
    ")\n",
    "\n",
    "multilabel_model.summary()"
   ]
  },
  {
   "cell_type": "code",
   "execution_count": 6,
   "metadata": {
    "colab": {
     "base_uri": "https://localhost:8080/"
    },
    "id": "OH4GA7LSZuvi",
    "outputId": "85578fb0-8957-48c3-dfbf-15257726b0d8"
   },
   "outputs": [
    {
     "name": "stdout",
     "output_type": "stream",
     "text": [
      "Epoch 1/50\n",
      "950/950 [==============================] - 225s 223ms/step - loss: 0.3265 - AUC: 0.4829 - val_loss: 0.3238 - val_AUC: 0.4838\n",
      "Epoch 2/50\n",
      "950/950 [==============================] - 212s 223ms/step - loss: 0.3239 - AUC: 0.4843 - val_loss: 0.3236 - val_AUC: 0.4892\n",
      "Epoch 3/50\n",
      "950/950 [==============================] - 213s 224ms/step - loss: 0.3132 - AUC: 0.5436 - val_loss: 0.2928 - val_AUC: 0.5744\n",
      "Epoch 4/50\n",
      "950/950 [==============================] - 213s 224ms/step - loss: 0.2774 - AUC: 0.6044 - val_loss: 0.2624 - val_AUC: 0.6259\n",
      "Epoch 5/50\n",
      "950/950 [==============================] - 212s 223ms/step - loss: 0.2478 - AUC: 0.6478 - val_loss: 0.2357 - val_AUC: 0.6599\n",
      "Epoch 6/50\n",
      "950/950 [==============================] - 212s 223ms/step - loss: 0.2239 - AUC: 0.6768 - val_loss: 0.2111 - val_AUC: 0.6946\n",
      "Epoch 7/50\n",
      "950/950 [==============================] - 212s 223ms/step - loss: 0.2026 - AUC: 0.7104 - val_loss: 0.1907 - val_AUC: 0.7203\n",
      "Epoch 8/50\n",
      "950/950 [==============================] - 212s 223ms/step - loss: 0.1881 - AUC: 0.7274 - val_loss: 0.1841 - val_AUC: 0.7349\n",
      "Epoch 9/50\n",
      "950/950 [==============================] - 212s 223ms/step - loss: 0.1749 - AUC: 0.7546 - val_loss: 0.1662 - val_AUC: 0.7615\n",
      "Epoch 10/50\n",
      "950/950 [==============================] - 212s 223ms/step - loss: 0.1649 - AUC: 0.7625 - val_loss: 0.1637 - val_AUC: 0.7634\n",
      "Epoch 11/50\n",
      "950/950 [==============================] - 212s 223ms/step - loss: 0.1633 - AUC: 0.7641 - val_loss: 0.1628 - val_AUC: 0.7659\n",
      "Epoch 12/50\n",
      "950/950 [==============================] - 212s 223ms/step - loss: 0.1595 - AUC: 0.7776 - val_loss: 0.1575 - val_AUC: 0.7801\n",
      "Epoch 13/50\n",
      "950/950 [==============================] - 211s 223ms/step - loss: 0.1561 - AUC: 0.7932 - val_loss: 0.1511 - val_AUC: 0.8103\n",
      "Epoch 14/50\n",
      "950/950 [==============================] - 211s 222ms/step - loss: 0.1465 - AUC: 0.8164 - val_loss: 0.1447 - val_AUC: 0.8177\n",
      "Epoch 15/50\n",
      "950/950 [==============================] - 212s 223ms/step - loss: 0.1439 - AUC: 0.8197 - val_loss: 0.1434 - val_AUC: 0.8202\n",
      "Epoch 16/50\n",
      "950/950 [==============================] - 211s 222ms/step - loss: 0.1422 - AUC: 0.8252 - val_loss: 0.1391 - val_AUC: 0.8329\n",
      "Epoch 17/50\n",
      "950/950 [==============================] - 213s 224ms/step - loss: 0.1371 - AUC: 0.8354 - val_loss: 0.1359 - val_AUC: 0.8345\n",
      "Epoch 18/50\n",
      "950/950 [==============================] - 213s 224ms/step - loss: 0.1348 - AUC: 0.8367 - val_loss: 0.1347 - val_AUC: 0.8354\n",
      "Epoch 19/50\n",
      "950/950 [==============================] - 213s 224ms/step - loss: 0.1338 - AUC: 0.8377 - val_loss: 0.1339 - val_AUC: 0.8371\n",
      "Epoch 20/50\n",
      "950/950 [==============================] - 213s 224ms/step - loss: 0.1332 - AUC: 0.8391 - val_loss: 0.1335 - val_AUC: 0.8396\n",
      "Epoch 21/50\n",
      "950/950 [==============================] - 213s 224ms/step - loss: 0.1310 - AUC: 0.8485 - val_loss: 0.1273 - val_AUC: 0.8574\n",
      "Epoch 22/50\n",
      "950/950 [==============================] - 213s 224ms/step - loss: 0.1203 - AUC: 0.8726 - val_loss: 0.1159 - val_AUC: 0.8776\n",
      "Epoch 23/50\n",
      "950/950 [==============================] - 213s 224ms/step - loss: 0.1144 - AUC: 0.8786 - val_loss: 0.1143 - val_AUC: 0.8786\n",
      "Epoch 24/50\n",
      "950/950 [==============================] - 213s 224ms/step - loss: 0.1133 - AUC: 0.8795 - val_loss: 0.1137 - val_AUC: 0.8789\n",
      "Epoch 25/50\n",
      "950/950 [==============================] - 212s 223ms/step - loss: 0.1127 - AUC: 0.8799 - val_loss: 0.1132 - val_AUC: 0.8792\n",
      "Epoch 26/50\n",
      "950/950 [==============================] - 212s 223ms/step - loss: 0.1122 - AUC: 0.8804 - val_loss: 0.1131 - val_AUC: 0.8795\n",
      "Epoch 27/50\n",
      "950/950 [==============================] - 213s 224ms/step - loss: 0.1118 - AUC: 0.8808 - val_loss: 0.1129 - val_AUC: 0.8792\n",
      "Epoch 28/50\n",
      "950/950 [==============================] - 213s 224ms/step - loss: 0.1116 - AUC: 0.8810 - val_loss: 0.1124 - val_AUC: 0.8802\n",
      "Epoch 29/50\n",
      "950/950 [==============================] - 212s 223ms/step - loss: 0.1113 - AUC: 0.8813 - val_loss: 0.1123 - val_AUC: 0.8796\n",
      "Epoch 30/50\n",
      "950/950 [==============================] - 211s 222ms/step - loss: 0.1110 - AUC: 0.8816 - val_loss: 0.1125 - val_AUC: 0.8800\n",
      "Epoch 31/50\n",
      "950/950 [==============================] - 210s 222ms/step - loss: 0.1108 - AUC: 0.8818 - val_loss: 0.1121 - val_AUC: 0.8804\n",
      "Epoch 32/50\n",
      "950/950 [==============================] - 211s 222ms/step - loss: 0.1106 - AUC: 0.8822 - val_loss: 0.1116 - val_AUC: 0.8808\n",
      "Epoch 33/50\n",
      "950/950 [==============================] - 211s 222ms/step - loss: 0.1104 - AUC: 0.8825 - val_loss: 0.1116 - val_AUC: 0.8803\n",
      "Epoch 34/50\n",
      "950/950 [==============================] - 212s 223ms/step - loss: 0.1102 - AUC: 0.8828 - val_loss: 0.1117 - val_AUC: 0.8812\n",
      "Epoch 35/50\n",
      "950/950 [==============================] - 212s 223ms/step - loss: 0.1100 - AUC: 0.8835 - val_loss: 0.1113 - val_AUC: 0.8818\n",
      "Epoch 36/50\n",
      "950/950 [==============================] - 212s 223ms/step - loss: 0.1098 - AUC: 0.8849 - val_loss: 0.1116 - val_AUC: 0.8848\n",
      "Epoch 37/50\n",
      "950/950 [==============================] - 212s 223ms/step - loss: 0.1085 - AUC: 0.8942 - val_loss: 0.1089 - val_AUC: 0.8957\n",
      "Epoch 38/50\n",
      "950/950 [==============================] - 212s 223ms/step - loss: 0.1069 - AUC: 0.8976 - val_loss: 0.1088 - val_AUC: 0.8961\n",
      "Epoch 39/50\n",
      "950/950 [==============================] - 212s 223ms/step - loss: 0.1064 - AUC: 0.8991 - val_loss: 0.1081 - val_AUC: 0.8984\n",
      "Epoch 40/50\n",
      "950/950 [==============================] - 212s 223ms/step - loss: 0.1058 - AUC: 0.9036 - val_loss: 0.1072 - val_AUC: 0.9043\n",
      "Epoch 41/50\n",
      "950/950 [==============================] - 212s 224ms/step - loss: 0.1042 - AUC: 0.9089 - val_loss: 0.1060 - val_AUC: 0.9071\n",
      "Epoch 42/50\n",
      "950/950 [==============================] - 212s 223ms/step - loss: 0.1034 - AUC: 0.9099 - val_loss: 0.1055 - val_AUC: 0.9076\n",
      "Epoch 43/50\n",
      "950/950 [==============================] - 212s 223ms/step - loss: 0.1031 - AUC: 0.9106 - val_loss: 0.1056 - val_AUC: 0.9084\n",
      "Epoch 44/50\n",
      "950/950 [==============================] - 212s 223ms/step - loss: 0.1020 - AUC: 0.9174 - val_loss: 0.1029 - val_AUC: 0.9202\n",
      "Epoch 45/50\n",
      "950/950 [==============================] - 213s 224ms/step - loss: 0.0996 - AUC: 0.9228 - val_loss: 0.1018 - val_AUC: 0.9208\n",
      "Epoch 46/50\n",
      "950/950 [==============================] - 212s 223ms/step - loss: 0.0991 - AUC: 0.9232 - val_loss: 0.1017 - val_AUC: 0.9208\n",
      "Epoch 47/50\n",
      "950/950 [==============================] - 212s 223ms/step - loss: 0.0989 - AUC: 0.9234 - val_loss: 0.1016 - val_AUC: 0.9212\n",
      "Epoch 48/50\n",
      "950/950 [==============================] - 212s 223ms/step - loss: 0.0986 - AUC: 0.9235 - val_loss: 0.1015 - val_AUC: 0.9209\n",
      "Epoch 49/50\n",
      "950/950 [==============================] - 212s 223ms/step - loss: 0.0985 - AUC: 0.9237 - val_loss: 0.1014 - val_AUC: 0.9211\n",
      "Epoch 50/50\n",
      "950/950 [==============================] - 212s 223ms/step - loss: 0.0984 - AUC: 0.9238 - val_loss: 0.1015 - val_AUC: 0.9212\n"
     ]
    }
   ],
   "source": [
    "callback = [EarlyStopping(patience = 3)]\n",
    "\n",
    "multilabel_model_history = multilabel_model.fit(train_data_features, train_data_binlabels, epochs = 50, batch_size = 1000, validation_split = 5e-2, shuffle = True, callbacks = callback)  "
   ]
  },
  {
   "cell_type": "code",
   "execution_count": 7,
   "metadata": {
    "colab": {
     "base_uri": "https://localhost:8080/",
     "height": 385
    },
    "id": "5RmgFE8BZu3a",
    "outputId": "ebc156ea-2063-456c-b9be-13b5d03219df"
   },
   "outputs": [
    {
     "data": {
      "image/png": "[encoded data removed]",
      "text/plain": [
       "<Figure size 1008x360 with 2 Axes>"
      ]
     },
     "metadata": {
      "needs_background": "light"
     },
     "output_type": "display_data"
    },
    {
     "name": "stdout",
     "output_type": "stream",
     "text": [
      "3125/3125 [==============================] - 58s 18ms/step - loss: 0.1018 - AUC: 0.9211\n"
     ]
    },
    {
     "data": {
      "text/plain": [
       "[0.10182563215494156, 0.9210681319236755]"
      ]
     },
     "execution_count": 7,
     "metadata": {},
     "output_type": "execute_result"
    }
   ],
   "source": [
    "plot_loss_and_AUC(multilabel_model_history)\n",
    "\n",
    "multilabel_model.evaluate(test_data_features, test_data_binlabels)"
   ]
  },
  {
   "cell_type": "code",
   "execution_count": 8,
   "metadata": {
    "id": "D9_Vn0YurIDO"
   },
   "outputs": [],
   "source": [
    "multilabel_model.save('/content/drive/MyDrive/Data/convrnn_multilabel_classification_29_factors.h5')"
   ]
  }
 ],
 "metadata": {
  "accelerator": "GPU",
  "colab": {
   "collapsed_sections": [],
   "name": "Untitled1.ipynb",
   "provenance": []
  },
  "kernelspec": {
   "display_name": "Python 3",
   "language": "python",
   "name": "python3"
  },
  "language_info": {
   "codemirror_mode": {
    "name": "ipython",
    "version": 3
   },
   "file_extension": ".py",
   "mimetype": "text/x-python",
   "name": "python",
   "nbconvert_exporter": "python",
   "pygments_lexer": "ipython3",
   "version": "3.8.8"
  }
 },
 "nbformat": 4,
 "nbformat_minor": 1
}
