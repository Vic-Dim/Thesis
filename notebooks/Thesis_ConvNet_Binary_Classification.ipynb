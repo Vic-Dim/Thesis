{
 "cells": [
  {
   "cell_type": "code",
   "execution_count": null,
   "metadata": {
    "id": "72zhY-tX4v0m"
   },
   "outputs": [],
   "source": [
    "%matplotlib inline"
   ]
  },
  {
   "cell_type": "code",
   "execution_count": null,
   "metadata": {
    "colab": {
     "base_uri": "https://localhost:8080/"
    },
    "id": "qcYBoRPX5DOd",
    "outputId": "144064ba-f950-4692-d2dc-b4d45f1968bf"
   },
   "outputs": [
    {
     "name": "stdout",
     "output_type": "stream",
     "text": [
      "Drive already mounted at /content/drive; to attempt to forcibly remount, call drive.mount(\"/content/drive\", force_remount=True).\n"
     ]
    }
   ],
   "source": [
    "from google.colab import drive\n",
    "drive.mount('/content/drive')\n",
    "\n",
    "import numpy as np\n",
    "import matplotlib.pyplot as plt\n",
    "import pandas as pd\n",
    "import h5py\n",
    "\n",
    "from tensorflow.keras import Input\n",
    "from tensorflow.keras.backend import clear_session\n",
    "from tensorflow.keras.models import Model\n",
    "from tensorflow.keras.layers import Conv1D, MaxPooling1D, Dense, Dropout, Flatten, LeakyReLU\n",
    "from tensorflow.keras.losses import BinaryCrossentropy\n",
    "from tensorflow.keras.optimizers import Adam\n",
    "from tensorflow.keras.metrics import AUC\n",
    "from tensorflow.keras.callbacks import EarlyStopping"
   ]
  },
  {
   "cell_type": "code",
   "execution_count": null,
   "metadata": {
    "id": "-_5GMRAx5Da5"
   },
   "outputs": [],
   "source": [
    "train_data = h5py.File(r'/content/drive/MyDrive/Data/Single Factor Generated Data/MA0035_4_m3_train.h5', 'r')\n",
    "test_data = h5py.File(r'/content/drive/MyDrive/Data/Single Factor Generated Data/MA0035_4_m3_test.h5', 'r')  \n",
    "\n",
    "train_data_binlabels, train_data_features = np.array(train_data['binlabels']), np.array(train_data['data'])\n",
    "test_data_binlabels, test_data_features = np.array(test_data['binlabels']), np.array(test_data['data'])\n",
    "\n",
    "train_data_features = np.array([i.T for i in train_data_features])\n",
    "test_data_features = np.array([i.T for i in test_data_features])\n",
    "\n",
    "train_data.close()\n",
    "test_data.close()"
   ]
  },
  {
   "cell_type": "code",
   "execution_count": null,
   "metadata": {
    "id": "FpdIA5Yu5iIm"
   },
   "outputs": [],
   "source": [
    "def plot_loss_and_AUC(model_history):\n",
    "  fig, ax = plt.subplots(ncols=2, figsize=(14, 5))\n",
    "\n",
    "  ax[0].plot(model_history.history[\"loss\"])\n",
    "  ax[0].plot(model_history.history[\"val_loss\"])\n",
    "  ax[0].title.set_text('model train loss vs validation loss')\n",
    "  ax[0].set(xlabel=\"loss\", ylabel=\"epoch\")\n",
    "  ax[0].legend(['train', 'validation'], loc='upper right')\n",
    "\n",
    "  ax[1].plot(model_history.history[\"AUC\"])\n",
    "  ax[1].plot(model_history.history[\"val_AUC\"])\n",
    "  ax[1].title.set_text('model train accuracy vs validation accuracy')\n",
    "  ax[1].set(xlabel=\"accuracy\", ylabel=\"epoch\")\n",
    "  ax[1].legend(['train', 'validation'], loc='lower right')\n",
    "\n",
    "  plt.show()"
   ]
  },
  {
   "cell_type": "code",
   "execution_count": null,
   "metadata": {
    "colab": {
     "base_uri": "https://localhost:8080/"
    },
    "id": "K1xVrFuI5rbd",
    "outputId": "a3535a40-a967-479b-d260-f92f2b59a237"
   },
   "outputs": [
    {
     "name": "stdout",
     "output_type": "stream",
     "text": [
      "Model: \"model\"\n",
      "_________________________________________________________________\n",
      " Layer (type)                Output Shape              Param #   \n",
      "=================================================================\n",
      " input_1 (InputLayer)        [(None, 1000, 4)]         0         \n",
      "                                                                 \n",
      " conv1d (Conv1D)             (None, 1000, 16)          656       \n",
      "                                                                 \n",
      " max_pooling1d (MaxPooling1D  (None, 250, 16)          0         \n",
      " )                                                               \n",
      "                                                                 \n",
      " dropout (Dropout)           (None, 250, 16)           0         \n",
      "                                                                 \n",
      " conv1d_1 (Conv1D)           (None, 250, 24)           3864      \n",
      "                                                                 \n",
      " max_pooling1d_1 (MaxPooling  (None, 62, 24)           0         \n",
      " 1D)                                                             \n",
      "                                                                 \n",
      " dropout_1 (Dropout)         (None, 62, 24)            0         \n",
      "                                                                 \n",
      " conv1d_2 (Conv1D)           (None, 62, 32)            6176      \n",
      "                                                                 \n",
      " max_pooling1d_2 (MaxPooling  (None, 15, 32)           0         \n",
      " 1D)                                                             \n",
      "                                                                 \n",
      " dropout_2 (Dropout)         (None, 15, 32)            0         \n",
      "                                                                 \n",
      " flatten (Flatten)           (None, 480)               0         \n",
      "                                                                 \n",
      " dense (Dense)               (None, 32)                15392     \n",
      "                                                                 \n",
      " dropout_3 (Dropout)         (None, 32)                0         \n",
      "                                                                 \n",
      " dense_1 (Dense)             (None, 1)                 33        \n",
      "                                                                 \n",
      "=================================================================\n",
      "Total params: 26,121\n",
      "Trainable params: 26,121\n",
      "Non-trainable params: 0\n",
      "_________________________________________________________________\n"
     ]
    }
   ],
   "source": [
    "clear_session()\n",
    "\n",
    "input_layer = Input(shape = (1000, 4))\n",
    "\n",
    "hidden_layer = Conv1D(filters = 16, kernel_size = 10, padding = \"same\", activation = LeakyReLU(alpha=0))(input_layer)\n",
    "hidden_layer = MaxPooling1D(pool_size = 4, strides = 4)(hidden_layer)\n",
    "hidden_layer = Dropout(0.1)(hidden_layer)\n",
    "hidden_layer = Conv1D(filters = 24, kernel_size = 10, padding = \"same\", activation = LeakyReLU(alpha=0))(hidden_layer)\n",
    "hidden_layer = MaxPooling1D(pool_size = 4, strides = 4)(hidden_layer)\n",
    "hidden_layer = Dropout(0.1)(hidden_layer)\n",
    "hidden_layer = Conv1D(filters = 32, kernel_size = 8, padding = \"same\", activation = LeakyReLU(alpha=0))(hidden_layer)\n",
    "hidden_layer = MaxPooling1D(pool_size = 4, strides = 4)(hidden_layer)\n",
    "hidden_layer = Dropout(0.1)(hidden_layer)\n",
    "hidden_layer = Flatten()(hidden_layer)\n",
    "hidden_layer = Dense(units = 32, activation = LeakyReLU())(hidden_layer)\n",
    "hidden_layer = Dropout(0.1)(hidden_layer)\n",
    "\n",
    "output = Dense(1, activation = \"sigmoid\")(hidden_layer)\n",
    "\n",
    "single_class_model = Model(inputs = input_layer, outputs=output)\n",
    " \n",
    "single_class_model.compile(\n",
    "    loss = BinaryCrossentropy(),\n",
    "    optimizer = Adam(beta_1 = 0.95),\n",
    "    metrics = [AUC(name = \"AUC\")]\n",
    ")\n",
    "\n",
    "single_class_model.summary()"
   ]
  },
  {
   "cell_type": "code",
   "execution_count": null,
   "metadata": {
    "colab": {
     "base_uri": "https://localhost:8080/"
    },
    "id": "pp6GK_UT6fs1",
    "outputId": "bd911755-ab6d-4132-d800-4130fe3ad033"
   },
   "outputs": [
    {
     "name": "stdout",
     "output_type": "stream",
     "text": [
      "Epoch 1/30\n",
      "95/95 [==============================] - 8s 69ms/step - loss: 0.6938 - AUC: 0.4989 - val_loss: 0.6925 - val_AUC: 0.4963\n",
      "Epoch 2/30\n",
      "95/95 [==============================] - 6s 64ms/step - loss: 0.6925 - AUC: 0.5020 - val_loss: 0.6927 - val_AUC: 0.4919\n",
      "Epoch 3/30\n",
      "95/95 [==============================] - 6s 65ms/step - loss: 0.6925 - AUC: 0.5046 - val_loss: 0.6925 - val_AUC: 0.4946\n",
      "Epoch 4/30\n",
      "95/95 [==============================] - 6s 64ms/step - loss: 0.6924 - AUC: 0.5075 - val_loss: 0.6925 - val_AUC: 0.4918\n",
      "Epoch 5/30\n",
      "95/95 [==============================] - 6s 64ms/step - loss: 0.6924 - AUC: 0.5067 - val_loss: 0.6925 - val_AUC: 0.4934\n",
      "Epoch 6/30\n",
      "95/95 [==============================] - 6s 64ms/step - loss: 0.6922 - AUC: 0.5115 - val_loss: 0.6926 - val_AUC: 0.5003\n",
      "Epoch 7/30\n",
      "95/95 [==============================] - 6s 64ms/step - loss: 0.6918 - AUC: 0.5208 - val_loss: 0.6921 - val_AUC: 0.5147\n",
      "Epoch 8/30\n",
      "95/95 [==============================] - 6s 64ms/step - loss: 0.6915 - AUC: 0.5238 - val_loss: 0.6912 - val_AUC: 0.5419\n",
      "Epoch 9/30\n",
      "95/95 [==============================] - 6s 64ms/step - loss: 0.6780 - AUC: 0.5988 - val_loss: 0.6244 - val_AUC: 0.7250\n",
      "Epoch 10/30\n",
      "95/95 [==============================] - 6s 63ms/step - loss: 0.6084 - AUC: 0.7343 - val_loss: 0.5799 - val_AUC: 0.7746\n",
      "Epoch 11/30\n",
      "95/95 [==============================] - 6s 63ms/step - loss: 0.5841 - AUC: 0.7602 - val_loss: 0.5657 - val_AUC: 0.7788\n",
      "Epoch 12/30\n",
      "95/95 [==============================] - 6s 63ms/step - loss: 0.5763 - AUC: 0.7662 - val_loss: 0.5627 - val_AUC: 0.7811\n",
      "Epoch 13/30\n",
      "95/95 [==============================] - 6s 63ms/step - loss: 0.5723 - AUC: 0.7696 - val_loss: 0.5613 - val_AUC: 0.7814\n",
      "Epoch 14/30\n",
      "95/95 [==============================] - 6s 63ms/step - loss: 0.5687 - AUC: 0.7724 - val_loss: 0.5604 - val_AUC: 0.7818\n",
      "Epoch 15/30\n",
      "95/95 [==============================] - 6s 63ms/step - loss: 0.5678 - AUC: 0.7733 - val_loss: 0.5606 - val_AUC: 0.7817\n",
      "Epoch 16/30\n",
      "95/95 [==============================] - 6s 63ms/step - loss: 0.5660 - AUC: 0.7746 - val_loss: 0.5595 - val_AUC: 0.7832\n",
      "Epoch 17/30\n",
      "95/95 [==============================] - 6s 63ms/step - loss: 0.5648 - AUC: 0.7751 - val_loss: 0.5589 - val_AUC: 0.7826\n",
      "Epoch 18/30\n",
      "95/95 [==============================] - 6s 63ms/step - loss: 0.5630 - AUC: 0.7764 - val_loss: 0.5587 - val_AUC: 0.7831\n",
      "Epoch 19/30\n",
      "95/95 [==============================] - 6s 64ms/step - loss: 0.5620 - AUC: 0.7777 - val_loss: 0.5605 - val_AUC: 0.7844\n",
      "Epoch 20/30\n",
      "95/95 [==============================] - 6s 63ms/step - loss: 0.5604 - AUC: 0.7790 - val_loss: 0.5563 - val_AUC: 0.7849\n",
      "Epoch 21/30\n",
      "95/95 [==============================] - 6s 63ms/step - loss: 0.5603 - AUC: 0.7789 - val_loss: 0.5557 - val_AUC: 0.7850\n",
      "Epoch 22/30\n",
      "95/95 [==============================] - 6s 63ms/step - loss: 0.5591 - AUC: 0.7794 - val_loss: 0.5563 - val_AUC: 0.7851\n",
      "Epoch 23/30\n",
      "95/95 [==============================] - 6s 63ms/step - loss: 0.5575 - AUC: 0.7811 - val_loss: 0.5591 - val_AUC: 0.7845\n",
      "Epoch 24/30\n",
      "95/95 [==============================] - 6s 63ms/step - loss: 0.5565 - AUC: 0.7819 - val_loss: 0.5608 - val_AUC: 0.7845\n",
      "Epoch 25/30\n",
      "95/95 [==============================] - 6s 63ms/step - loss: 0.5564 - AUC: 0.7819 - val_loss: 0.5578 - val_AUC: 0.7849\n",
      "Epoch 26/30\n",
      "95/95 [==============================] - 6s 63ms/step - loss: 0.5559 - AUC: 0.7824 - val_loss: 0.5667 - val_AUC: 0.7850\n",
      "Epoch 27/30\n",
      "95/95 [==============================] - 6s 62ms/step - loss: 0.5554 - AUC: 0.7825 - val_loss: 0.5592 - val_AUC: 0.7842\n",
      "Epoch 28/30\n",
      "95/95 [==============================] - 6s 62ms/step - loss: 0.5540 - AUC: 0.7843 - val_loss: 0.5685 - val_AUC: 0.7840\n",
      "Epoch 29/30\n",
      "95/95 [==============================] - 6s 62ms/step - loss: 0.5534 - AUC: 0.7846 - val_loss: 0.5568 - val_AUC: 0.7843\n",
      "Epoch 30/30\n",
      "95/95 [==============================] - 6s 63ms/step - loss: 0.5534 - AUC: 0.7845 - val_loss: 0.5583 - val_AUC: 0.7841\n"
     ]
    }
   ],
   "source": [
    "single_class_model_history = single_class_model.fit(train_data_features, train_data_binlabels, epochs = 30, batch_size = 1000, validation_split = 5e-2, shuffle = True)  "
   ]
  },
  {
   "cell_type": "code",
   "execution_count": null,
   "metadata": {
    "colab": {
     "base_uri": "https://localhost:8080/",
     "height": 419
    },
    "id": "v8SCpacH6iLM",
    "outputId": "45ad9476-cb13-4825-a789-5f3901b55368"
   },
   "outputs": [
    {
     "data": {
      "image/png": "[encoded data removed]",
      "text/plain": [
       "<Figure size 1008x360 with 2 Axes>"
      ]
     },
     "metadata": {
      "needs_background": "light"
     },
     "output_type": "display_data"
    },
    {
     "name": "stdout",
     "output_type": "stream",
     "text": [
      "\n",
      "\n",
      "313/313 [==============================] - 2s 5ms/step - loss: 0.5428 - AUC: 0.8037\n"
     ]
    },
    {
     "data": {
      "text/plain": [
       "[0.5427682399749756, 0.8036550879478455]"
      ]
     },
     "execution_count": 18,
     "metadata": {},
     "output_type": "execute_result"
    }
   ],
   "source": [
    "plot_loss_and_AUC(single_class_model_history)\n",
    "print(\"\\n\")\n",
    "single_class_model.evaluate(test_data_features, test_data_binlabels)"
   ]
  },
  {
   "cell_type": "code",
   "execution_count": null,
   "metadata": {
    "id": "6tpp5Pr48upY"
   },
   "outputs": [],
   "source": [
    "single_class_model.save('/content/drive/MyDrive/Data/convnet_binary_classification.h5')"
   ]
  }
 ],
 "metadata": {
  "accelerator": "GPU",
  "colab": {
   "name": "Thesis ConvNet Binary Classification.ipynb",
   "provenance": []
  },
  "kernelspec": {
   "display_name": "Python 3",
   "language": "python",
   "name": "python3"
  },
  "language_info": {
   "codemirror_mode": {
    "name": "ipython",
    "version": 3
   },
   "file_extension": ".py",
   "mimetype": "text/x-python",
   "name": "python",
   "nbconvert_exporter": "python",
   "pygments_lexer": "ipython3",
   "version": "3.8.8"
  }
 },
 "nbformat": 4,
 "nbformat_minor": 1
}
